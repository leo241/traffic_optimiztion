{
 "cells": [
  {
   "cell_type": "code",
   "execution_count": null,
   "id": "39637254",
   "metadata": {},
   "outputs": [],
   "source": [
    "from sklearn.model_selection import train_test_split\n",
    "import pandas as pd\n",
    "from sklearn.metrics import roc_curve,auc,roc_auc_score\n",
    "from sklearn.linear_model import LogisticRegression\n",
    "from sklearn.tree import DecisionTreeClassifier\n",
    "from sklearn.ensemble import RandomForestClassifier\n",
    "from sklearn.neighbors import KNeighborsClassifier\n",
    "from sklearn.metrics import confusion_matrix,accuracy_score\n",
    "from keras.utils import np_utils\n",
    "from lightgbm import LGBMClassifier\n",
    "import matplotlib.pyplot as plt\n",
    "import numpy as np\n",
    "from mord import LogisticIT # mord库是专门做有序回归的包，包括有序逻辑回归、有序岭回归等\n",
    "import warnings\n",
    "warnings.filterwarnings(\"ignore\")\n",
    "# import joblib\n",
    "plt.rcParams['font.sans-serif'] = ['SimHei']  # 用来正常显示中文标签\n",
    "plt.rcParams['axes.unicode_minus'] = False  # 用来正常显示负号"
   ]
  },
  {
   "cell_type": "markdown",
   "id": "a028b34a",
   "metadata": {},
   "source": [
    "将训练集进一步划分为验证集："
   ]
  },
  {
   "cell_type": "code",
   "execution_count": null,
   "id": "335ac079",
   "metadata": {},
   "outputs": [],
   "source": [
    "df = pd.read_csv('data_0601_one_hot.csv')\n",
    "y = df.pop('Severity')\n",
    "xtrain, xtest, ytrain, ytest = train_test_split(df,y, test_size = 0.05,random_state = 0)\n",
    "xtrain, xtest, ytrain, ytest = train_test_split(xtrain,ytrain, test_size = 0.05,random_state = 0) # 将训练集进一步划分为验证集\n",
    "ytrue_p = np_utils.to_categorical(ytest- 1, 4)"
   ]
  },
  {
   "cell_type": "markdown",
   "id": "bd89a5ac",
   "metadata": {},
   "source": [
    "# 决策树"
   ]
  },
  {
   "cell_type": "code",
   "execution_count": null,
   "id": "1327e8fe",
   "metadata": {},
   "outputs": [],
   "source": [
    "for para in [5, 10,15,20, None]:\n",
    "    for max_features in [None,3,5,7,9]:\n",
    "        md = DecisionTreeClassifier(max_depth = para,max_features = max_features).fit(xtrain, ytrain)\n",
    "        ypre = md.predict(xtest)\n",
    "        ypre_p = md.predict_proba(xtest)\n",
    "        print('para:',(para,max_features),'准确率:',accuracy_score(ytest, ypre),'AUC:',roc_auc_score(ytrue_p, ypre_p))"
   ]
  },
  {
   "cell_type": "markdown",
   "id": "a9042380",
   "metadata": {},
   "source": [
    "# 随机森林"
   ]
  },
  {
   "cell_type": "code",
   "execution_count": null,
   "id": "554ebc40",
   "metadata": {},
   "outputs": [],
   "source": [
    "for para in [10, 50,100,200]:\n",
    "    md = RandomForestClassifier(n_estimators=para).fit(xtrain, ytrain)\n",
    "    ypre = md.predict(xtest)\n",
    "    ypre_p = md.predict_proba(xtest)\n",
    "    print('para:',para,'准确率:',accuracy_score(ytest, ypre),'AUC:',roc_auc_score(ytrue_p, ypre_p))"
   ]
  },
  {
   "cell_type": "markdown",
   "id": "351fa951",
   "metadata": {},
   "source": [
    "# K近邻"
   ]
  },
  {
   "cell_type": "code",
   "execution_count": null,
   "id": "a5063b95",
   "metadata": {},
   "outputs": [],
   "source": [
    "for para in [1,2,3,4,5,6,7]:\n",
    "    md = KNeighborsClassifier(n_neighbors=para).fit(xtrain, ytrain)\n",
    "    ypre = md.predict(xtest)\n",
    "    ypre_p = md.predict_proba(xtest)\n",
    "    print('para:',para,'准确率:',accuracy_score(ytest, ypre),'AUC:',roc_auc_score(ytrue_p, ypre_p))"
   ]
  },
  {
   "cell_type": "markdown",
   "id": "cd1940d3",
   "metadata": {},
   "source": [
    "# 有序逻辑回归"
   ]
  },
  {
   "cell_type": "code",
   "execution_count": null,
   "id": "f9186b32",
   "metadata": {},
   "outputs": [],
   "source": [
    "for para in [200,600.1000]:\n",
    "    for alpha in [0,0.1,0.7,1]:\n",
    "        md = LogisticIT(max_iter = para, alpha = alpha).fit(xtrain, ytrain)\n",
    "        ypre = md.predict(xtest)\n",
    "        ypre_p = md.predict_proba(xtest)\n",
    "        print('para:',(para,max_features),'准确率:',accuracy_score(ytest, ypre),'AUC:',roc_auc_score(ytrue_p, ypre_p))"
   ]
  }
 ],
 "metadata": {
  "kernelspec": {
   "display_name": "Python 3 (ipykernel)",
   "language": "python",
   "name": "python3"
  },
  "language_info": {
   "codemirror_mode": {
    "name": "ipython",
    "version": 3
   },
   "file_extension": ".py",
   "mimetype": "text/x-python",
   "name": "python",
   "nbconvert_exporter": "python",
   "pygments_lexer": "ipython3",
   "version": "3.9.13"
  }
 },
 "nbformat": 4,
 "nbformat_minor": 5
}
