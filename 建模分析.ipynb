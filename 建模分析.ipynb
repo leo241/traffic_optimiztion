{
 "cells": [
  {
   "cell_type": "code",
   "execution_count": 1,
   "id": "37c4b03d",
   "metadata": {},
   "outputs": [],
   "source": [
    "from sklearn.model_selection import train_test_split\n",
    "import pandas as pd\n",
    "from sklearn.metrics import roc_curve,auc,roc_auc_score\n",
    "from sklearn.linear_model import LogisticRegression\n",
    "from sklearn.tree import DecisionTreeClassifier\n",
    "from sklearn.ensemble import RandomForestClassifier\n",
    "from sklearn.neighbors import KNeighborsClassifier\n",
    "from sklearn.metrics import confusion_matrix,accuracy_score\n",
    "from keras.utils import np_utils\n",
    "from lightgbm import LGBMClassifier\n",
    "import matplotlib.pyplot as plt\n",
    "import numpy as np\n",
    "from mord import LogisticIT # mord库是专门做有序回归的包，包括有序逻辑回归、有序岭回归等\n",
    "import warnings\n",
    "warnings.filterwarnings(\"ignore\")\n",
    "# import joblib\n",
    "plt.rcParams['font.sans-serif'] = ['SimHei']  # 用来正常显示中文标签\n",
    "plt.rcParams['axes.unicode_minus'] = False  # 用来正常显示负号"
   ]
  },
  {
   "cell_type": "markdown",
   "id": "9eadb7a5",
   "metadata": {},
   "source": [
    "使用已经清洗好、独热编码后的数据"
   ]
  },
  {
   "cell_type": "code",
   "execution_count": 2,
   "id": "3124305f",
   "metadata": {},
   "outputs": [],
   "source": [
    "df = pd.read_csv('data_0601_one_hot.csv')\n",
    "y = df.pop('Severity')\n",
    "xtrain, xtest, ytrain, ytest = train_test_split(df,y, test_size = 0.05,random_state = 0)\n",
    "ytrue_p = np_utils.to_categorical(ytest- 1, 4)"
   ]
  },
  {
   "cell_type": "markdown",
   "id": "ac55062c",
   "metadata": {},
   "source": [
    "# 单类预测"
   ]
  },
  {
   "cell_type": "code",
   "execution_count": 3,
   "id": "91031290",
   "metadata": {},
   "outputs": [
    {
     "name": "stdout",
     "output_type": "stream",
     "text": [
      "准确率: 0.6906694443331597\n",
      "[[    0  3003     0     0]\n",
      " [    0 86199     0     0]\n",
      " [    0 29264     0     0]\n",
      " [    0  6339     0     0]]\n",
      "AUC: 0.5\n"
     ]
    }
   ],
   "source": [
    "ypre = [2 for i in range(124805)]\n",
    "print('准确率:',accuracy_score(ytest, ypre))\n",
    "print(confusion_matrix(ytest, ypre))\n",
    "ypre_p = np.asarray([[0,1,0,0] for _ in range(124805)])\n",
    "print('AUC:', roc_auc_score(ytrue_p, ypre_p))"
   ]
  },
  {
   "cell_type": "markdown",
   "id": "5e83d52e",
   "metadata": {},
   "source": [
    "# 逻辑回归"
   ]
  },
  {
   "cell_type": "code",
   "execution_count": 4,
   "id": "93e2f54d",
   "metadata": {},
   "outputs": [
    {
     "name": "stdout",
     "output_type": "stream",
     "text": [
      "准确率: 0.690533231841673\n",
      "[[    0  3003     0     0]\n",
      " [    1 86178    12     8]\n",
      " [    7 29235     2    20]\n",
      " [    4  6329     4     2]]\n",
      "AUC: 0.6346232641613931\n"
     ]
    }
   ],
   "source": [
    "md = LogisticRegression().fit(xtrain, ytrain)\n",
    "ypre = md.predict(xtest)\n",
    "print('准确率:',accuracy_score(ytest, ypre))\n",
    "print(confusion_matrix(ytest, ypre))\n",
    "ypre_p = md.predict_proba(xtest)\n",
    "print('AUC:', roc_auc_score(ytrue_p, ypre_p))"
   ]
  },
  {
   "cell_type": "markdown",
   "id": "e7916f08",
   "metadata": {},
   "source": [
    "# 有序逻辑回归"
   ]
  },
  {
   "cell_type": "code",
   "execution_count": 5,
   "id": "721416a1",
   "metadata": {},
   "outputs": [
    {
     "name": "stdout",
     "output_type": "stream",
     "text": [
      "STOP: TOTAL NO. of ITERATIONS REACHED LIMIT\n",
      "准确率: 0.6937702816393574\n",
      "[[    0  3002     1     0]\n",
      " [    0 86185    14     0]\n",
      " [    0 28789   377    98]\n",
      " [    0  6275    40    24]]\n",
      "AUC: 0.6117634001419867\n"
     ]
    }
   ],
   "source": [
    "md = LogisticIT(max_iter = 1000, alpha = 0.1,verbose = 1).fit(xtrain, ytrain)\n",
    "ypre = md.predict(xtest)\n",
    "print('准确率:',accuracy_score(ytest, ypre))\n",
    "print(confusion_matrix(ytest, ypre))\n",
    "ypre_p = md.predict_proba(xtest)\n",
    "print('AUC:', roc_auc_score(ytrue_p, ypre_p))"
   ]
  },
  {
   "cell_type": "markdown",
   "id": "8f46a3d8",
   "metadata": {},
   "source": [
    "# K近邻"
   ]
  },
  {
   "cell_type": "code",
   "execution_count": 6,
   "id": "4ff7e5ef",
   "metadata": {},
   "outputs": [
    {
     "name": "stdout",
     "output_type": "stream",
     "text": [
      "准确率: 0.7184567925964505\n",
      "[[  696  1801   490    16]\n",
      " [  589 78897  6197   516]\n",
      " [  457 19072  9453   282]\n",
      " [   76  4640  1002   621]]\n",
      "AUC: 0.7371565968740933\n"
     ]
    }
   ],
   "source": [
    "md = KNeighborsClassifier(n_neighbors=5).fit(xtrain, ytrain)\n",
    "ypre = md.predict(xtest)\n",
    "print('准确率:',accuracy_score(ytest, ypre))\n",
    "print(confusion_matrix(ytest, ypre))\n",
    "ypre_p = md.predict_proba(xtest)\n",
    "print('AUC:',roc_auc_score(ytrue_p, ypre_p))"
   ]
  },
  {
   "cell_type": "markdown",
   "id": "965fbd79",
   "metadata": {},
   "source": [
    "# 决策树"
   ]
  },
  {
   "cell_type": "code",
   "execution_count": 7,
   "id": "dacfbf67",
   "metadata": {},
   "outputs": [
    {
     "name": "stdout",
     "output_type": "stream",
     "text": [
      "[[ 1242  1137   540    84]\n",
      " [ 1165 75800  7333  1901]\n",
      " [  702 11630 15578  1354]\n",
      " [  102  3180  1149  1908]]\n",
      "准确率: 0.7574055526621529\n",
      "AUC: 0.7174831665912089\n"
     ]
    }
   ],
   "source": [
    "md = DecisionTreeClassifier().fit(xtrain, ytrain) # 调参后发现最优即为默认参数，详见验证集调优\n",
    "ypre = md.predict(xtest)\n",
    "print(confusion_matrix(ytest, ypre))\n",
    "ypre_p = md.predict_proba(xtest)\n",
    "print('准确率:',accuracy_score(ytest, ypre))\n",
    "print('AUC:',roc_auc_score(ytrue_p, ypre_p))"
   ]
  },
  {
   "cell_type": "markdown",
   "id": "55ec54ae",
   "metadata": {},
   "source": [
    "# 随机森林"
   ]
  },
  {
   "cell_type": "code",
   "execution_count": 8,
   "id": "b96b261f",
   "metadata": {},
   "outputs": [
    {
     "name": "stdout",
     "output_type": "stream",
     "text": [
      "准确率: 0.7809222386923601 AUC: 0.8514412308226225\n",
      "[[ 1020  1523   449    11]\n",
      " [  404 80848  3871  1076]\n",
      " [  212 14854 13907   291]\n",
      " [   33  3703   915  1688]]\n"
     ]
    }
   ],
   "source": [
    "md = RandomForestClassifier(n_estimators=50).fit(xtrain, ytrain)\n",
    "ypre = md.predict(xtest)\n",
    "ypre_p = md.predict_proba(xtest)\n",
    "print('准确率:',accuracy_score(ytest, ypre),'AUC:',roc_auc_score(ytrue_p, ypre_p))\n",
    "print(confusion_matrix(ytest, ypre))"
   ]
  },
  {
   "cell_type": "code",
   "execution_count": 9,
   "id": "a34cb3b8",
   "metadata": {},
   "outputs": [
    {
     "data": {
      "image/png": "[encoded data removed]",
      "text/plain": [
       "<Figure size 640x480 with 1 Axes>"
      ]
     },
     "metadata": {},
     "output_type": "display_data"
    }
   ],
   "source": [
    "# 特征影响力\n",
    "importance = md.feature_importances_.tolist()\n",
    "column_name = xtrain.columns.values.tolist() # 训练集上获取各个列的列名\n",
    "column_order = list()\n",
    "importance_order = list()\n",
    "clip = 13\n",
    "for i in range(len(importance)):\n",
    "    index = importance.index(max(importance))\n",
    "    column_order_temp = column_name[index]\n",
    "    importance_order_temp = round(importance[index], 3)\n",
    "    column_order.append(column_order_temp)\n",
    "    importance_order.append(importance_order_temp)\n",
    "    # print(column_order_temp + ':' +  str(importance_order_temp))\n",
    "    column_name.pop(index)\n",
    "    importance.pop(index)\n",
    "    if i > clip:\n",
    "        break\n",
    "\n",
    "# 画出特征影响力的柱状图\n",
    "a = plt.barh(column_order[::-1], importance_order[::-1], align='center')\n",
    "plt.xlabel('特征重要性')\n",
    "plt.ylabel('特征')\n",
    "plt.title(f'随机森林特征重要性前{clip + 2}名')\n",
    "plt.show()"
   ]
  },
  {
   "cell_type": "markdown",
   "id": "60f6c8ca",
   "metadata": {},
   "source": [
    "# LightGBM"
   ]
  },
  {
   "cell_type": "code",
   "execution_count": 2,
   "id": "8040ddab",
   "metadata": {},
   "outputs": [
    {
     "name": "stdout",
     "output_type": "stream",
     "text": [
      "[100]\tvalid's auc_mu: 0.796185\n",
      "[200]\tvalid's auc_mu: 0.803538\n",
      "[300]\tvalid's auc_mu: 0.80759\n",
      "[400]\tvalid's auc_mu: 0.810173\n",
      "[500]\tvalid's auc_mu: 0.812697\n",
      "[600]\tvalid's auc_mu: 0.814528\n",
      "[700]\tvalid's auc_mu: 0.81628\n",
      "[800]\tvalid's auc_mu: 0.817532\n",
      "[900]\tvalid's auc_mu: 0.818553\n",
      "[1000]\tvalid's auc_mu: 0.819532\n",
      "准确率: 0.7224710548455591\n",
      "[[  411  2334   258     0]\n",
      " [  154 83930  2110     5]\n",
      " [   92 23402  5756    14]\n",
      " [   32  5585   651    71]]\n",
      "AUC: 0.7737760881409608\n"
     ]
    }
   ],
   "source": [
    "df2 = pd.read_csv('data_0601.csv') # 重新读入一份非独热编码的数据\n",
    "df2.pop('index') # 去掉索引列\n",
    "category_cns = ['Wind_Direction','Weather_Condition','Sunrise_Sunset'\n",
    "            ,'Civil_Twilight','Nautical_Twilight','Astronomical_Twilight','month']\n",
    "for cn in category_cns:\n",
    "    df2[cn] = df2[cn].astype('category') # lightgbm处理类别特征无需独热编码\n",
    "y = df2.pop('Severity')\n",
    "xtrain, xtest, ytrain, ytest = train_test_split(df2,y, test_size = 0.05,random_state = 0)\n",
    "ytrue_p = np_utils.to_categorical(ytest- 1, 4)\n",
    "fit_params = {\n",
    "    \"early_stopping_rounds\":30,\n",
    "    \"eval_metric\":'auc_mu',\n",
    "    \"eval_set\":[(xtest,ytest)],\n",
    "    \"eval_names\":['valid'],\n",
    "    'verbose':100,\n",
    "    'feature_name':'auto',\n",
    "    'categorical_feature':'auto'\n",
    "}\n",
    "md = LGBMClassifier(num_leaves = 15\n",
    "                       ,max_depth = -1\n",
    "                       ,silent = True\n",
    "                       ,metric = 'None'\n",
    "                       ,n_jobs = 4\n",
    "                       , n_estimators = 1000\n",
    "                       ,colsample_bytree = 0.9\n",
    "                       ,subsample = 0.9\n",
    "                       ,learning_rate = 0.1\n",
    "                      )\n",
    "md.fit(xtrain,ytrain,**fit_params)\n",
    "ypre = md.predict(xtest)\n",
    "print('准确率:',accuracy_score(ytest, ypre))\n",
    "print(confusion_matrix(ytest, ypre))\n",
    "ypre_p = md.predict_proba(xtest)\n",
    "print('AUC:',roc_auc_score(ytrue_p, ypre_p))"
   ]
  }
 ],
 "metadata": {
  "kernelspec": {
   "display_name": "Python 3 (ipykernel)",
   "language": "python",
   "name": "python3"
  },
  "language_info": {
   "codemirror_mode": {
    "name": "ipython",
    "version": 3
   },
   "file_extension": ".py",
   "mimetype": "text/x-python",
   "name": "python",
   "nbconvert_exporter": "python",
   "pygments_lexer": "ipython3",
   "version": "3.9.13"
  }
 },
 "nbformat": 4,
 "nbformat_minor": 5
}
