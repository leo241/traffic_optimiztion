{
 "cells": [
  {
   "cell_type": "code",
   "execution_count": 1,
   "id": "2431982f",
   "metadata": {},
   "outputs": [],
   "source": [
    "'''\n",
    "本文件作用为\n",
    "给定原始kaggle数据 US_Accidents_March23.csv\n",
    "生成清洗后的两张数据表 —— data_0601.csv、data_0601_one_hot.csv\n",
    "这份代码用于验证，您也可以不运行，直接下载网盘中的三份数据放在本地\n",
    "'''\n",
    "import pandas as pd\n",
    "from tqdm import tqdm\n",
    "import warnings\n",
    "warnings.filterwarnings(\"ignore\")"
   ]
  },
  {
   "cell_type": "markdown",
   "id": "0030f606",
   "metadata": {},
   "source": [
    "# 1.通过欠采样、去空值行、列选择生成data_0601.csv"
   ]
  },
  {
   "cell_type": "code",
   "execution_count": 2,
   "id": "01b7c60e",
   "metadata": {},
   "outputs": [],
   "source": [
    "df = pd.read_csv('US_Accidents_March23.csv')\n",
    "df2 = df[(pd.to_datetime(df['Start_Time']).dt.year ==2022) \n",
    "                  | (pd.to_datetime(df['Start_Time']).dt.year ==2023)\n",
    "                  |(df['Severity'] == 1)\n",
    "                 |(df['Severity'] == 3)\n",
    "                 |(df['Severity'] == 4)] # 欠采样\n",
    "df2['year'] = df2['Start_Time'].apply(lambda x: pd.to_datetime(x).year)\n",
    "df2['month'] = df2['Start_Time'].apply(lambda x: pd.to_datetime(x).month)\n",
    "xy = df2[[ 'month','Temperature(F)', 'Wind_Chill(F)', 'Humidity(%)', 'Pressure(in)',\n",
    "       'Visibility(mi)', 'Wind_Direction', 'Wind_Speed(mph)',\n",
    "       'Precipitation(in)', 'Weather_Condition', 'Amenity', 'Bump', 'Crossing',\n",
    "       'Give_Way', 'Junction', 'No_Exit', 'Railway', 'Roundabout', 'Station',\n",
    "       'Stop', 'Traffic_Calming', 'Traffic_Signal', 'Turning_Loop',\n",
    "       'Sunrise_Sunset', 'Civil_Twilight', 'Nautical_Twilight',\n",
    "       'Astronomical_Twilight','Severity']]\n",
    "xy2 = xy.dropna(axis=0).reset_index()# 删除有空值的行\n",
    "xy2.to_csv('data_0601.csv',index = False)"
   ]
  },
  {
   "cell_type": "markdown",
   "id": "f0ec9d94",
   "metadata": {},
   "source": [
    "# 2.在第一份数据基础上，进行独热编码，生成第二份数据data_0601_one_hot.csv"
   ]
  },
  {
   "cell_type": "code",
   "execution_count": 3,
   "id": "f3450403",
   "metadata": {},
   "outputs": [
    {
     "name": "stderr",
     "output_type": "stream",
     "text": [
      "100%|██████████████████████████████████████████████████████████████████████| 2496090/2496090 [04:30<00:00, 9235.47it/s]\n",
      "100%|██████████████████████████████████████████████████████████████████████| 2496090/2496090 [04:37<00:00, 8986.19it/s]\n",
      "100%|██████████████████████████████████████████████████████████████████████| 2496090/2496090 [04:50<00:00, 8600.73it/s]\n",
      "100%|██████████████████████████████████████████████████████████████████████| 2496090/2496090 [04:56<00:00, 8420.56it/s]\n",
      "100%|██████████████████████████████████████████████████████████████████████| 2496090/2496090 [05:01<00:00, 8278.52it/s]\n",
      "100%|██████████████████████████████████████████████████████████████████████| 2496090/2496090 [04:47<00:00, 8687.43it/s]\n",
      "100%|██████████████████████████████████████████████████████████████████████| 2496090/2496090 [04:56<00:00, 8417.81it/s]\n"
     ]
    }
   ],
   "source": [
    "category_cns = ['Wind_Direction','Weather_Condition','Sunrise_Sunset'\n",
    "            ,'Civil_Twilight','Nautical_Twilight','Astronomical_Twilight','month']\n",
    "new_cns = []\n",
    "length = len(xy2)\n",
    "xy3 = xy2.copy()\n",
    "for str_cn in category_cns:\n",
    "    d_types = list(xy2[str_cn].value_counts().keys())\n",
    "    for value in d_types:\n",
    "        value = str(value) # 防止特殊情况报错\n",
    "        tmp = str_cn + '_' + value\n",
    "        xy3[tmp] = 0\n",
    "        new_cns.append(tmp)\n",
    "    for i in tqdm(range(length)):\n",
    "        xy3.loc[i, str_cn + '_' + str(xy3.loc[i,str_cn])] = 1\n",
    "xy3 = xy3[[ 'Temperature(F)', 'Wind_Chill(F)', 'Humidity(%)', 'Pressure(in)',\n",
    "       'Visibility(mi)', 'Wind_Speed(mph)',\n",
    "       'Precipitation(in)', 'Amenity', 'Bump', 'Crossing',\n",
    "       'Give_Way', 'Junction', 'No_Exit', 'Railway', 'Roundabout', 'Station',\n",
    "       'Stop', 'Traffic_Calming', 'Traffic_Signal', 'Turning_Loop',\n",
    "       'Severity'] + new_cns]\n",
    "xy3.to_csv('data_0601_one_hot.csv',index = False)"
   ]
  }
 ],
 "metadata": {
  "kernelspec": {
   "display_name": "Python 3 (ipykernel)",
   "language": "python",
   "name": "python3"
  },
  "language_info": {
   "codemirror_mode": {
    "name": "ipython",
    "version": 3
   },
   "file_extension": ".py",
   "mimetype": "text/x-python",
   "name": "python",
   "nbconvert_exporter": "python",
   "pygments_lexer": "ipython3",
   "version": "3.9.13"
  }
 },
 "nbformat": 4,
 "nbformat_minor": 5
}
